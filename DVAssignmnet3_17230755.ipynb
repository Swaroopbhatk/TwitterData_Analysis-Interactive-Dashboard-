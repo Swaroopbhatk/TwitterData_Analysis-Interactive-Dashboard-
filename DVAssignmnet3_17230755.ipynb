{
 "cells": [
  {
   "cell_type": "code",
   "execution_count": 1,
   "metadata": {
    "collapsed": true
   },
   "outputs": [],
   "source": [
    "import pandas as pd\n",
    "import numpy as np\n",
    "import re\n",
    "from googlemaps import googlemaps\n",
    "from tqdm import tqdm"
   ]
  },
  {
   "cell_type": "markdown",
   "metadata": {},
   "source": [
    "## Data Visualisation Assignment 3 - Twitter Data\n",
    "Student Id: 17230755\n",
    "#### Data Preprocessing"
   ]
  },
  {
   "cell_type": "code",
   "execution_count": 4,
   "metadata": {
    "collapsed": true
   },
   "outputs": [],
   "source": [
    "# Location finder\n",
    "def location(Address):\n",
    "    '''This function is used to get the most accurate latitude and longitude for a given address. \n",
    "    However, if no address found it will writen nan integer type'''\n",
    "    Address = str(Address)\n",
    "    Address = re.sub('[^a-zA-Z0-9 ,]+', '', Address)\n",
    "    gmaps = googlemaps.Client(key='YourKey')\n",
    "    \n",
    "    #The below line combines the park name, Area and Dublin to find the reasonable accurate results using geopy (google)\n",
    "    if 'Ireland' not in Address:\n",
    "        Address = Address+' '+'Ireland'\n",
    "    \n",
    "    try:\n",
    "        loc = gmaps.geocode(Address)[0]['geometry']['location'] # This fetches the latitude and longitude given the address\n",
    "        \n",
    "        return loc['lat'], loc['lng']\n",
    "    except:\n",
    "        return np.nan, np.nan # This block return Na value if geo finder does not return any value\n"
   ]
  },
  {
   "cell_type": "code",
   "execution_count": 5,
   "metadata": {},
   "outputs": [
    {
     "name": "stderr",
     "output_type": "stream",
     "text": [
      "489it [01:49,  4.46it/s]\n"
     ]
    }
   ],
   "source": [
    "def dataPreProcessing():\n",
    "    tweets = pd.read_csv(\"TwitterData.csv\", encoding='ISO-8859-1', index_col=0)\n",
    "    userInfo = pd.read_csv(\"UserInfo.csv\", encoding='ISO-8859-1', index_col=0)\n",
    "    userInfo.dropna(subset = ['location'], inplace=True)\n",
    "    new_df = pd.merge(tweets, userInfo, on='screenName')\n",
    "    df = new_df[['text', 'created_x', 'id_x', 'id_y','description', 'name', 'screenName', 'retweetCount', \n",
    "                 'friendsCount','followersCount', 'location', 'latitude', 'longitude', 'statusSource', 'verified']]\n",
    "    df = df[df.location.str.contains(\"London\") == False]\n",
    "    df = df[df.location.str.contains(\"Amsterdam, NL\") == False]\n",
    "    \n",
    "        \n",
    "    for index, row in tqdm(df.iterrows()):\n",
    "        if np.isnan(row['latitude']) and np.isnan(row['longitude']):\n",
    "            lat, lng = location(row['location'])\n",
    "            df.loc[[index],'latitude'] = lat\n",
    "            df.loc[[index],'longitude'] = lng\n",
    "\n",
    "    \n",
    "    df.dropna(subset = ['latitude'], inplace=True)\n",
    "    return df\n",
    "\n",
    "\n",
    "df = dataPreProcessing()"
   ]
  },
  {
   "cell_type": "code",
   "execution_count": 6,
   "metadata": {
    "collapsed": true,
    "scrolled": true
   },
   "outputs": [],
   "source": [
    "def finalProcessing():\n",
    "    x = df.drop_duplicates('screenName')\n",
    "    y = dict(df.groupby('screenName')['retweetCount'].sum())\n",
    "    z = pd.DataFrame(list(y.items()), columns=['screenName', 'tweetCount'])\n",
    "    final = pd.merge(x, z, on='screenName')[['text', 'created_x', 'id_x', 'id_y','description', 'name', 'screenName', 'tweetCount', \n",
    "                     'friendsCount','followersCount', 'location', 'latitude', 'longitude', 'statusSource', 'verified']]\n",
    "    return final\n",
    "\n",
    "final = finalProcessing()\n"
   ]
  },
  {
   "cell_type": "code",
   "execution_count": 7,
   "metadata": {
    "collapsed": true
   },
   "outputs": [],
   "source": [
    "li = final.created_x\n",
    "dt = []\n",
    "tim = []\n",
    "for i in range(len(li)):\n",
    "    x = li[i].split(' ')\n",
    "    dt.append(x[0])\n",
    "    tim.append(x[1])\n",
    "\n",
    "tim = pd.Series(tim)\n",
    "dt = pd.Series(dt)\n",
    "final['Date'] = dt.values\n",
    "final['Time'] = tim.values"
   ]
  },
  {
   "cell_type": "code",
   "execution_count": 8,
   "metadata": {
    "collapsed": true
   },
   "outputs": [],
   "source": [
    "tweetsPerDay = dict(final.groupby('Date')['tweetCount'].sum())\n",
    "tweetsPerDay = pd.DataFrame(list(tweetsPerDay.items()), columns=['dt', 'TotCount'])"
   ]
  },
  {
   "cell_type": "code",
   "execution_count": 22,
   "metadata": {
    "collapsed": true
   },
   "outputs": [],
   "source": [
    "final.to_csv('tweets.csv', index=False)\n",
    "tweetsPerDay.to_csv('tweetsPerDay.csv', index=False)"
   ]
  },
  {
   "cell_type": "code",
   "execution_count": 54,
   "metadata": {
    "collapsed": true
   },
   "outputs": [],
   "source": [
    "poptweets = dict(df[['text', 'retweetCount']].groupby('text')['retweetCount'].sum())\n",
    "poptweets = pd.DataFrame(list(poptweets.items()), columns=['text', 'Popularity']).sort_values('Popularity', ascending=False)[0:20]\n",
    "poptweets.to_csv('poptweets.csv', index=False)"
   ]
  },
  {
   "cell_type": "code",
   "execution_count": 17,
   "metadata": {},
   "outputs": [],
   "source": [
    "fianl = pd.read_csv('tweets.csv', encoding='ISO-8859-1')\n",
    "t = fianl"
   ]
  },
  {
   "cell_type": "code",
   "execution_count": 18,
   "metadata": {
    "collapsed": true
   },
   "outputs": [],
   "source": [
    "for index, row in t.iterrows():\n",
    "    if \"donegal\" in row['location'].lower():\n",
    "        t.loc[[index],'location'] = \"donegal\"\n",
    "    elif \"galway\" in row['location'].lower():\n",
    "         t.loc[[index],'location'] = \"galway\"\n",
    "    elif \"carlow\" in row['location'].lower():\n",
    "         t.loc[[index],'location'] = \"carlow\" \n",
    "    elif \"limerick\" in row['location'].lower():\n",
    "         t.loc[[index],'location'] = \"limerick\"\n",
    "    elif \"dublin\" in row['location'].lower():\n",
    "         t.loc[[index],'location'] = \"dublin\"\n",
    "    elif \"sligo\" in row['location'].lower():\n",
    "         t.loc[[index],'location'] = \"sligo\"\n",
    "    elif \"tipperary\" in row['location'].lower():\n",
    "         t.loc[[index],'location'] = \"tipperary\"\n",
    "    elif \"clare\" in row['location'].lower():\n",
    "         t.loc[[index],'location'] = \"clare\"\n",
    "    elif \"Wicklow\" in row['location'].lower():\n",
    "         t.loc[[index],'location'] = \"Wicklow\"\n",
    "    elif \"cork\" in row['location'].lower():\n",
    "         t.loc[[index],'location'] = \"cork\"\n",
    "    elif \"kerry\" in row['location'].lower():\n",
    "         t.loc[[index],'location'] = \"kerry\"\n",
    "    elif \"fingal\" in row['location'].lower():\n",
    "         t.loc[[index],'location'] = \"fingal\"\n",
    "    else:\n",
    "        t.loc[[index],'location'] = \"others\""
   ]
  },
  {
   "cell_type": "code",
   "execution_count": 15,
   "metadata": {
    "collapsed": true
   },
   "outputs": [],
   "source": [
    "t = pd.DataFrame(t.groupby('location').size())"
   ]
  },
  {
   "cell_type": "code",
   "execution_count": 12,
   "metadata": {
    "collapsed": true
   },
   "outputs": [],
   "source": [
    "t = pd.read_csv('count.csv')"
   ]
  },
  {
   "cell_type": "code",
   "execution_count": 102,
   "metadata": {
    "collapsed": true
   },
   "outputs": [],
   "source": [
    "t['Counts'] = t['Counts'].apply(lambda x: x*100/202)"
   ]
  },
  {
   "cell_type": "code",
   "execution_count": 16,
   "metadata": {
    "collapsed": true
   },
   "outputs": [],
   "source": [
    "t.to_csv('count.csv')"
   ]
  },
  {
   "cell_type": "code",
   "execution_count": null,
   "metadata": {
    "collapsed": true
   },
   "outputs": [],
   "source": []
  },
  {
   "cell_type": "code",
   "execution_count": 48,
   "metadata": {
    "collapsed": true
   },
   "outputs": [],
   "source": [
    "final = pd.read_csv('tweets.csv', encoding='ISO-8859-1')"
   ]
  },
  {
   "cell_type": "code",
   "execution_count": 7,
   "metadata": {
    "collapsed": true
   },
   "outputs": [],
   "source": [
    "focount = final[['screenName', 'followersCount']]"
   ]
  },
  {
   "cell_type": "code",
   "execution_count": 9,
   "metadata": {
    "collapsed": true
   },
   "outputs": [],
   "source": [
    "focount.columns = ['name', 'weight']"
   ]
  },
  {
   "cell_type": "code",
   "execution_count": 14,
   "metadata": {
    "collapsed": true
   },
   "outputs": [],
   "source": [
    "focount.to_csv('followers.csv', index=False)"
   ]
  },
  {
   "cell_type": "code",
   "execution_count": 61,
   "metadata": {
    "collapsed": true
   },
   "outputs": [],
   "source": [
    "top = final.groupby('text').agg({'tweetCount':'sum', 'latitude':'first', 'longitude':'first', 'text':'first'})\n",
    "top = top.sort_values('tweetCount', ascending=False)[0:50]"
   ]
  },
  {
   "cell_type": "code",
   "execution_count": 63,
   "metadata": {
    "collapsed": true
   },
   "outputs": [],
   "source": [
    "top.to_csv('top50tweets.csv', index=False)"
   ]
  },
  {
   "cell_type": "code",
   "execution_count": 22,
   "metadata": {},
   "outputs": [],
   "source": [
    "t = pd.DataFrame(t.groupby(['Date', 'location'])['tweetCount'].sum())\n",
    "t.to_csv('count.csv')"
   ]
  },
  {
   "cell_type": "code",
   "execution_count": 23,
   "metadata": {},
   "outputs": [
    {
     "data": {
      "text/html": [
       "<div>\n",
       "<style>\n",
       "    .dataframe thead tr:only-child th {\n",
       "        text-align: right;\n",
       "    }\n",
       "\n",
       "    .dataframe thead th {\n",
       "        text-align: left;\n",
       "    }\n",
       "\n",
       "    .dataframe tbody tr th {\n",
       "        vertical-align: top;\n",
       "    }\n",
       "</style>\n",
       "<table border=\"1\" class=\"dataframe\">\n",
       "  <thead>\n",
       "    <tr style=\"text-align: right;\">\n",
       "      <th></th>\n",
       "      <th></th>\n",
       "      <th>tweetCount</th>\n",
       "    </tr>\n",
       "    <tr>\n",
       "      <th>Date</th>\n",
       "      <th>location</th>\n",
       "      <th></th>\n",
       "    </tr>\n",
       "  </thead>\n",
       "  <tbody>\n",
       "    <tr>\n",
       "      <th rowspan=\"7\" valign=\"top\">2018-03-07</th>\n",
       "      <th>carlow</th>\n",
       "      <td>5</td>\n",
       "    </tr>\n",
       "    <tr>\n",
       "      <th>clare</th>\n",
       "      <td>36</td>\n",
       "    </tr>\n",
       "    <tr>\n",
       "      <th>cork</th>\n",
       "      <td>5</td>\n",
       "    </tr>\n",
       "    <tr>\n",
       "      <th>dublin</th>\n",
       "      <td>162</td>\n",
       "    </tr>\n",
       "    <tr>\n",
       "      <th>fingal</th>\n",
       "      <td>0</td>\n",
       "    </tr>\n",
       "    <tr>\n",
       "      <th>galway</th>\n",
       "      <td>0</td>\n",
       "    </tr>\n",
       "    <tr>\n",
       "      <th>others</th>\n",
       "      <td>164</td>\n",
       "    </tr>\n",
       "    <tr>\n",
       "      <th rowspan=\"5\" valign=\"top\">2018-03-08</th>\n",
       "      <th>cork</th>\n",
       "      <td>11</td>\n",
       "    </tr>\n",
       "    <tr>\n",
       "      <th>dublin</th>\n",
       "      <td>502</td>\n",
       "    </tr>\n",
       "    <tr>\n",
       "      <th>galway</th>\n",
       "      <td>36</td>\n",
       "    </tr>\n",
       "    <tr>\n",
       "      <th>limerick</th>\n",
       "      <td>83</td>\n",
       "    </tr>\n",
       "    <tr>\n",
       "      <th>others</th>\n",
       "      <td>880</td>\n",
       "    </tr>\n",
       "    <tr>\n",
       "      <th rowspan=\"5\" valign=\"top\">2018-03-09</th>\n",
       "      <th>clare</th>\n",
       "      <td>97</td>\n",
       "    </tr>\n",
       "    <tr>\n",
       "      <th>cork</th>\n",
       "      <td>108</td>\n",
       "    </tr>\n",
       "    <tr>\n",
       "      <th>dublin</th>\n",
       "      <td>477</td>\n",
       "    </tr>\n",
       "    <tr>\n",
       "      <th>limerick</th>\n",
       "      <td>56</td>\n",
       "    </tr>\n",
       "    <tr>\n",
       "      <th>others</th>\n",
       "      <td>395</td>\n",
       "    </tr>\n",
       "    <tr>\n",
       "      <th rowspan=\"5\" valign=\"top\">2018-03-10</th>\n",
       "      <th>cork</th>\n",
       "      <td>177</td>\n",
       "    </tr>\n",
       "    <tr>\n",
       "      <th>dublin</th>\n",
       "      <td>61</td>\n",
       "    </tr>\n",
       "    <tr>\n",
       "      <th>galway</th>\n",
       "      <td>180</td>\n",
       "    </tr>\n",
       "    <tr>\n",
       "      <th>kerry</th>\n",
       "      <td>73</td>\n",
       "    </tr>\n",
       "    <tr>\n",
       "      <th>others</th>\n",
       "      <td>299</td>\n",
       "    </tr>\n",
       "    <tr>\n",
       "      <th rowspan=\"4\" valign=\"top\">2018-03-11</th>\n",
       "      <th>cork</th>\n",
       "      <td>87</td>\n",
       "    </tr>\n",
       "    <tr>\n",
       "      <th>dublin</th>\n",
       "      <td>885</td>\n",
       "    </tr>\n",
       "    <tr>\n",
       "      <th>kerry</th>\n",
       "      <td>226</td>\n",
       "    </tr>\n",
       "    <tr>\n",
       "      <th>others</th>\n",
       "      <td>1454</td>\n",
       "    </tr>\n",
       "    <tr>\n",
       "      <th rowspan=\"5\" valign=\"top\">2018-03-12</th>\n",
       "      <th>clare</th>\n",
       "      <td>38</td>\n",
       "    </tr>\n",
       "    <tr>\n",
       "      <th>donegal</th>\n",
       "      <td>134</td>\n",
       "    </tr>\n",
       "    <tr>\n",
       "      <th>dublin</th>\n",
       "      <td>126</td>\n",
       "    </tr>\n",
       "    <tr>\n",
       "      <th>limerick</th>\n",
       "      <td>39</td>\n",
       "    </tr>\n",
       "    <tr>\n",
       "      <th>others</th>\n",
       "      <td>290</td>\n",
       "    </tr>\n",
       "    <tr>\n",
       "      <th rowspan=\"7\" valign=\"top\">2018-03-13</th>\n",
       "      <th>cork</th>\n",
       "      <td>2</td>\n",
       "    </tr>\n",
       "    <tr>\n",
       "      <th>dublin</th>\n",
       "      <td>129</td>\n",
       "    </tr>\n",
       "    <tr>\n",
       "      <th>galway</th>\n",
       "      <td>5</td>\n",
       "    </tr>\n",
       "    <tr>\n",
       "      <th>kerry</th>\n",
       "      <td>93</td>\n",
       "    </tr>\n",
       "    <tr>\n",
       "      <th>limerick</th>\n",
       "      <td>339</td>\n",
       "    </tr>\n",
       "    <tr>\n",
       "      <th>others</th>\n",
       "      <td>429</td>\n",
       "    </tr>\n",
       "    <tr>\n",
       "      <th>sligo</th>\n",
       "      <td>13</td>\n",
       "    </tr>\n",
       "  </tbody>\n",
       "</table>\n",
       "</div>"
      ],
      "text/plain": [
       "                     tweetCount\n",
       "Date       location            \n",
       "2018-03-07 carlow             5\n",
       "           clare             36\n",
       "           cork               5\n",
       "           dublin           162\n",
       "           fingal             0\n",
       "           galway             0\n",
       "           others           164\n",
       "2018-03-08 cork              11\n",
       "           dublin           502\n",
       "           galway            36\n",
       "           limerick          83\n",
       "           others           880\n",
       "2018-03-09 clare             97\n",
       "           cork             108\n",
       "           dublin           477\n",
       "           limerick          56\n",
       "           others           395\n",
       "2018-03-10 cork             177\n",
       "           dublin            61\n",
       "           galway           180\n",
       "           kerry             73\n",
       "           others           299\n",
       "2018-03-11 cork              87\n",
       "           dublin           885\n",
       "           kerry            226\n",
       "           others          1454\n",
       "2018-03-12 clare             38\n",
       "           donegal          134\n",
       "           dublin           126\n",
       "           limerick          39\n",
       "           others           290\n",
       "2018-03-13 cork               2\n",
       "           dublin           129\n",
       "           galway             5\n",
       "           kerry             93\n",
       "           limerick         339\n",
       "           others           429\n",
       "           sligo             13"
      ]
     },
     "execution_count": 23,
     "metadata": {},
     "output_type": "execute_result"
    }
   ],
   "source": [
    "t"
   ]
  }
 ],
 "metadata": {
  "kernelspec": {
   "display_name": "Python 3",
   "language": "python",
   "name": "python3"
  },
  "language_info": {
   "codemirror_mode": {
    "name": "ipython",
    "version": 3
   },
   "file_extension": ".py",
   "mimetype": "text/x-python",
   "name": "python",
   "nbconvert_exporter": "python",
   "pygments_lexer": "ipython3",
   "version": "3.6.3"
  }
 },
 "nbformat": 4,
 "nbformat_minor": 2
}
